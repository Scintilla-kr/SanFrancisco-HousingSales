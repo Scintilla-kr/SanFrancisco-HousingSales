{
 "cells": [
  {
   "cell_type": "markdown",
   "metadata": {},
   "source": [
    "# Capstone Project - San Francisco Housing Sales Price \n",
    "### Applied Data Science Capstone by IBM/Coursera"
   ]
  },
  {
   "cell_type": "markdown",
   "metadata": {},
   "source": [
    "## Table of contents\n",
    "* [Introduction: Business Problem](#introduction)\n",
    "* [Data](#data)\n",
    "* [Methodology](#methodology)\n",
    "* [Analysis](#analysis)\n",
    "* [Conclusion](#conclusion)"
   ]
  },
  {
   "cell_type": "markdown",
   "metadata": {},
   "source": [
    "## Introduction: Business Problem <a name=\"introduction\"></a>"
   ]
  },
  {
   "cell_type": "markdown",
   "metadata": {},
   "source": [
    "In this project, I'll analyze each neighborhood in San Francisco and try to find a relationship between **San Francisco Housing Sales Price** and **nearby venues**. \n",
    "\n",
    "Specifically, this report will be targeted to stakeholders interested in investing a **real estate in San Francisco**, helping them to choose the regions with their favorite venues or lower real estate costs.\n",
    "\n",
    "I'll create a map with each neighborhood in San Francisco segmented and clustered according to housing sales prices and nearby venues."
   ]
  },
  {
   "cell_type": "markdown",
   "metadata": {},
   "source": [
    "## Data <a name=\"data\"></a>"
   ]
  },
  {
   "cell_type": "markdown",
   "metadata": {},
   "source": [
    "In consider of our problem, I found following data sets:\n",
    "* I found **Median Value Per Squre foot** data of each neighborhood in San Francisco, from Apr 1996 to Jul 2019. The csv file contains the **Region Name, City, CountyName, SizeRank and median_value_per_sqft** during this time period in USD.\n",
    "* I used **Forsquare API** to get the most common venues of given neighborhood of San Francisco.\n",
    "* I used **Google Maps API geocoding** to get the center cooridnates of each neighborhood."
   ]
  },
  {
   "cell_type": "markdown",
   "metadata": {},
   "source": [
    "Read *Median Value Per Squre foot* data into a pandas DataFrame, it contains Median Value per sqft of each major city in the US from 1996 to 2019, represented by zip code. Drop useless columns and rename *ReginName* to *ZipCode*. We are mainly focusing on the San Francisco data. We are mainly looking into the house value data of 2019, calculate the mean value of each month in 2019. Insert mean value of 2019 into the dataframe and drop data from other years. Use **geopy.geocoders** to build a function and obtain geographical coordinates of each zip code. Write coordinates information of each zip code into the dataframe and clean the data. Use **Beautiful Soup** library to scrape table from a website which contains the **Neighborhood Name** and **Population** of each Zip Code."
   ]
  },
  {
   "cell_type": "markdown",
   "metadata": {},
   "source": [
    "Now we have a dataframe wchich contains all geographical data of each neighborhood in San Francisco.\n",
    "<img src=\"df1.jpg\">"
   ]
  },
  {
   "cell_type": "markdown",
   "metadata": {},
   "source": [
    "Create a map of San Francisco with markers of each neighborhood.\n",
    "<img src=\"map1.jpg\">"
   ]
  },
  {
   "cell_type": "markdown",
   "metadata": {},
   "source": [
    "## Methodology <a name=\"methodology\"></a>"
   ]
  },
  {
   "cell_type": "markdown",
   "metadata": {},
   "source": [
    "Now use Foursquare AIP to find nearby venues data of each neighborhood. First define Foursquare Credentials and Version. Create a function to process all the neighborhoods in San Francisco. Run the function on each neighborhood and create a new dataframe called sf_venues. Check the size of the resulting dataframe. Get how many venus were returned for each neighborhood. Find out how many unique categories can be curated from all the returned venues."
   ]
  },
  {
   "cell_type": "markdown",
   "metadata": {},
   "source": [
    "### Analyze Each Neighborhood\n",
    "Use one hot encoding to transforme all the catagorical data into numerical numbers. Get the shape of the new one hot dataframe. Group rows by neighborhood and by taking the mean of the frequency of occerence of each catagory. Print each neighborhood along with the top 3 most common venues. Create the new dataframe and display the top 3 venues for each neighborhood.\n",
    "<img src=\"df2.jpg\">"
   ]
  },
  {
   "cell_type": "markdown",
   "metadata": {},
   "source": [
    "## Clustering neighborhood"
   ]
  },
  {
   "cell_type": "markdown",
   "metadata": {},
   "source": [
    "Import KMeans library. Merge the venues catagorical data with mean price, population and venue cont data. Run k-means to cluster the neighborhood into 5 clusters. Creat a new dataframe that includes the cluster as well as the top 3 venues for each neighborhood.\n",
    "<img src=\"df4.jpg\">"
   ]
  },
  {
   "cell_type": "markdown",
   "metadata": {},
   "source": [
    "## Analysis <a name=\"analysis\"></a>"
   ]
  },
  {
   "cell_type": "markdown",
   "metadata": {},
   "source": [
    "Create a map with clusters in neighborhood of San Francisco.\n",
    "<img src=\"map2.jpg\">"
   ]
  },
  {
   "cell_type": "markdown",
   "metadata": {},
   "source": [
    "Cluster 1\n",
    "<img src=\"c1.jpg\">"
   ]
  },
  {
   "cell_type": "markdown",
   "metadata": {},
   "source": [
    "Cluster 2\n",
    "<img src=\"c2.jpg\">"
   ]
  },
  {
   "cell_type": "markdown",
   "metadata": {},
   "source": [
    "Cluster 3\n",
    "<img src=\"c3.jpg\">"
   ]
  },
  {
   "cell_type": "markdown",
   "metadata": {},
   "source": [
    "Cluster 4\n",
    "<img src=\"c4.jpg\">"
   ]
  },
  {
   "cell_type": "markdown",
   "metadata": {},
   "source": [
    "Cluster 5\n",
    "<img src=\"c5.jpg\">"
   ]
  },
  {
   "cell_type": "markdown",
   "metadata": {},
   "source": [
    "## Conclusion <a name=\"conclusion\"></a>"
   ]
  },
  {
   "cell_type": "markdown",
   "metadata": {},
   "source": [
    "Now we have segmented all neighborhoods in San Francisco into 5 Clusters based on the average housing price, population and venue numbers and most common venue in each neighborhood. The same labeled neighborhoods are those have most similar house price, population and venues. The stakeholders will be able to know which cluster of neighborhood to invest, considering their financial status and preference of venues."
   ]
  }
 ],
 "metadata": {
  "kernelspec": {
   "display_name": "Python 3",
   "language": "python",
   "name": "python3"
  },
  "language_info": {
   "codemirror_mode": {
    "name": "ipython",
    "version": 3
   },
   "file_extension": ".py",
   "mimetype": "text/x-python",
   "name": "python",
   "nbconvert_exporter": "python",
   "pygments_lexer": "ipython3",
   "version": "3.6.5"
  }
 },
 "nbformat": 4,
 "nbformat_minor": 2
}
