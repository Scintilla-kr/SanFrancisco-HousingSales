{
 "cells": [
  {
   "cell_type": "markdown",
   "metadata": {},
   "source": [
    "# Capstone Project - San Francisco Housing Sales Price \n",
    "### Applied Data Science Capstone by IBM/Coursera"
   ]
  },
  {
   "cell_type": "markdown",
   "metadata": {},
   "source": [
    "## Table of contents\n",
    "* [Introduction: Business Problem](#introduction)\n",
    "* [Data](#data)\n",
    "* [Methodology](#methodology)\n",
    "* [Analysis](#analysis)\n",
    "* [Results and Discussion](#results)\n",
    "* [Conclusion](#conclusion)"
   ]
  },
  {
   "cell_type": "markdown",
   "metadata": {},
   "source": [
    "## Introduction: Business Problem <a name=\"introduction\"></a>"
   ]
  },
  {
   "cell_type": "markdown",
   "metadata": {},
   "source": [
    "In this project, I'll analyze each neighborhood in San Francisco and try to find a relationship between **San Francisco Housing Sales Price** and **nearby venues**. \n",
    "\n",
    "Specifically, this report will be targeted to stakeholders interested in investing a **real estate in San Francisco**, helping them to choose the regions with their favorite venues or lower real estate costs.\n",
    "\n",
    "I'll create a map with each neighborhood in San Francisco segmented and clustered according to housing sales prices and nearby venues."
   ]
  },
  {
   "cell_type": "markdown",
   "metadata": {},
   "source": [
    "## Data <a name=\"data\"></a>"
   ]
  },
  {
   "cell_type": "markdown",
   "metadata": {},
   "source": [
    "In consider of our problem, I found following data sets:\n",
    "* I found **Median Value Per Squre foot** data of each neighborhood in San Francisco, from Apr 1996 to Jul 2019. The csv file contains the **Region Name, City, CountyName, SizeRank and median_value_per_sqft** during this time period in USD.\n",
    "* I used **Forsquare API** to get the most common venues of given neighborhood of San Francisco.\n",
    "* I used **Google Maps API geocoding** to get the center cooridnates of each neighborhood."
   ]
  },
  {
   "cell_type": "code",
   "execution_count": 171,
   "metadata": {},
   "outputs": [],
   "source": [
    "import pandas as pd\n",
    "import numpy as np\n",
    "import folium \n",
    "from geopy.geocoders import Nominatim"
   ]
  },
  {
   "cell_type": "code",
   "execution_count": 182,
   "metadata": {},
   "outputs": [
    {
     "data": {
      "text/html": [
       "<div>\n",
       "<style scoped>\n",
       "    .dataframe tbody tr th:only-of-type {\n",
       "        vertical-align: middle;\n",
       "    }\n",
       "\n",
       "    .dataframe tbody tr th {\n",
       "        vertical-align: top;\n",
       "    }\n",
       "\n",
       "    .dataframe thead th {\n",
       "        text-align: right;\n",
       "    }\n",
       "</style>\n",
       "<table border=\"1\" class=\"dataframe\">\n",
       "  <thead>\n",
       "    <tr style=\"text-align: right;\">\n",
       "      <th></th>\n",
       "      <th>RegionID</th>\n",
       "      <th>RegionName</th>\n",
       "      <th>1996-04</th>\n",
       "      <th>1996-05</th>\n",
       "      <th>1996-06</th>\n",
       "      <th>1996-07</th>\n",
       "      <th>1996-08</th>\n",
       "      <th>1996-09</th>\n",
       "      <th>1996-10</th>\n",
       "      <th>1996-11</th>\n",
       "      <th>...</th>\n",
       "      <th>2018-10</th>\n",
       "      <th>2018-11</th>\n",
       "      <th>2018-12</th>\n",
       "      <th>2019-01</th>\n",
       "      <th>2019-02</th>\n",
       "      <th>2019-03</th>\n",
       "      <th>2019-04</th>\n",
       "      <th>2019-05</th>\n",
       "      <th>2019-06</th>\n",
       "      <th>2019-07</th>\n",
       "    </tr>\n",
       "  </thead>\n",
       "  <tbody>\n",
       "    <tr>\n",
       "      <th>0</th>\n",
       "      <td>268384</td>\n",
       "      <td>Outer Sunset</td>\n",
       "      <td>192.0</td>\n",
       "      <td>193.0</td>\n",
       "      <td>194.0</td>\n",
       "      <td>195.0</td>\n",
       "      <td>196.0</td>\n",
       "      <td>196.0</td>\n",
       "      <td>198.0</td>\n",
       "      <td>199.0</td>\n",
       "      <td>...</td>\n",
       "      <td>1018</td>\n",
       "      <td>1021</td>\n",
       "      <td>1022</td>\n",
       "      <td>1025</td>\n",
       "      <td>1024</td>\n",
       "      <td>1019</td>\n",
       "      <td>1018</td>\n",
       "      <td>1019</td>\n",
       "      <td>1021</td>\n",
       "      <td>1024</td>\n",
       "    </tr>\n",
       "    <tr>\n",
       "      <th>1</th>\n",
       "      <td>274552</td>\n",
       "      <td>Mission</td>\n",
       "      <td>193.0</td>\n",
       "      <td>193.0</td>\n",
       "      <td>193.0</td>\n",
       "      <td>193.0</td>\n",
       "      <td>193.0</td>\n",
       "      <td>193.0</td>\n",
       "      <td>194.0</td>\n",
       "      <td>194.0</td>\n",
       "      <td>...</td>\n",
       "      <td>1154</td>\n",
       "      <td>1153</td>\n",
       "      <td>1152</td>\n",
       "      <td>1153</td>\n",
       "      <td>1149</td>\n",
       "      <td>1144</td>\n",
       "      <td>1143</td>\n",
       "      <td>1146</td>\n",
       "      <td>1147</td>\n",
       "      <td>1148</td>\n",
       "    </tr>\n",
       "    <tr>\n",
       "      <th>2</th>\n",
       "      <td>268383</td>\n",
       "      <td>Outer Richmond</td>\n",
       "      <td>181.0</td>\n",
       "      <td>182.0</td>\n",
       "      <td>183.0</td>\n",
       "      <td>184.0</td>\n",
       "      <td>185.0</td>\n",
       "      <td>186.0</td>\n",
       "      <td>188.0</td>\n",
       "      <td>189.0</td>\n",
       "      <td>...</td>\n",
       "      <td>944</td>\n",
       "      <td>943</td>\n",
       "      <td>944</td>\n",
       "      <td>945</td>\n",
       "      <td>941</td>\n",
       "      <td>932</td>\n",
       "      <td>923</td>\n",
       "      <td>919</td>\n",
       "      <td>920</td>\n",
       "      <td>922</td>\n",
       "    </tr>\n",
       "    <tr>\n",
       "      <th>3</th>\n",
       "      <td>268219</td>\n",
       "      <td>Inner Richmond</td>\n",
       "      <td>197.0</td>\n",
       "      <td>198.0</td>\n",
       "      <td>199.0</td>\n",
       "      <td>201.0</td>\n",
       "      <td>202.0</td>\n",
       "      <td>203.0</td>\n",
       "      <td>205.0</td>\n",
       "      <td>206.0</td>\n",
       "      <td>...</td>\n",
       "      <td>1065</td>\n",
       "      <td>1064</td>\n",
       "      <td>1063</td>\n",
       "      <td>1063</td>\n",
       "      <td>1064</td>\n",
       "      <td>1063</td>\n",
       "      <td>1061</td>\n",
       "      <td>1060</td>\n",
       "      <td>1062</td>\n",
       "      <td>1064</td>\n",
       "    </tr>\n",
       "    <tr>\n",
       "      <th>4</th>\n",
       "      <td>268396</td>\n",
       "      <td>Parkside</td>\n",
       "      <td>187.0</td>\n",
       "      <td>188.0</td>\n",
       "      <td>189.0</td>\n",
       "      <td>190.0</td>\n",
       "      <td>190.0</td>\n",
       "      <td>191.0</td>\n",
       "      <td>193.0</td>\n",
       "      <td>195.0</td>\n",
       "      <td>...</td>\n",
       "      <td>947</td>\n",
       "      <td>944</td>\n",
       "      <td>942</td>\n",
       "      <td>942</td>\n",
       "      <td>939</td>\n",
       "      <td>938</td>\n",
       "      <td>940</td>\n",
       "      <td>944</td>\n",
       "      <td>949</td>\n",
       "      <td>954</td>\n",
       "    </tr>\n",
       "  </tbody>\n",
       "</table>\n",
       "<p>5 rows × 282 columns</p>\n",
       "</div>"
      ],
      "text/plain": [
       "   RegionID      RegionName  1996-04  1996-05  1996-06  1996-07  1996-08  \\\n",
       "0    268384    Outer Sunset    192.0    193.0    194.0    195.0    196.0   \n",
       "1    274552         Mission    193.0    193.0    193.0    193.0    193.0   \n",
       "2    268383  Outer Richmond    181.0    182.0    183.0    184.0    185.0   \n",
       "3    268219  Inner Richmond    197.0    198.0    199.0    201.0    202.0   \n",
       "4    268396        Parkside    187.0    188.0    189.0    190.0    190.0   \n",
       "\n",
       "   1996-09  1996-10  1996-11   ...     2018-10  2018-11  2018-12  2019-01  \\\n",
       "0    196.0    198.0    199.0   ...        1018     1021     1022     1025   \n",
       "1    193.0    194.0    194.0   ...        1154     1153     1152     1153   \n",
       "2    186.0    188.0    189.0   ...         944      943      944      945   \n",
       "3    203.0    205.0    206.0   ...        1065     1064     1063     1063   \n",
       "4    191.0    193.0    195.0   ...         947      944      942      942   \n",
       "\n",
       "   2019-02  2019-03  2019-04  2019-05  2019-06  2019-07  \n",
       "0     1024     1019     1018     1019     1021     1024  \n",
       "1     1149     1144     1143     1146     1147     1148  \n",
       "2      941      932      923      919      920      922  \n",
       "3     1064     1063     1061     1060     1062     1064  \n",
       "4      939      938      940      944      949      954  \n",
       "\n",
       "[5 rows x 282 columns]"
      ]
     },
     "execution_count": 182,
     "metadata": {},
     "output_type": "execute_result"
    }
   ],
   "source": [
    "df = pd.read_csv('Neighborhood_MedianValuePerSqft_AllHomes.csv')\n",
    "df_sf = df[df['City']=='San Francisco'].reset_index(drop=True)\n",
    "df_sf.drop(['City','State','Metro','CountyName','SizeRank'],1,inplace=True)\n",
    "df_sf.head()"
   ]
  },
  {
   "cell_type": "code",
   "execution_count": 183,
   "metadata": {},
   "outputs": [
    {
     "data": {
      "text/html": [
       "<div>\n",
       "<style scoped>\n",
       "    .dataframe tbody tr th:only-of-type {\n",
       "        vertical-align: middle;\n",
       "    }\n",
       "\n",
       "    .dataframe tbody tr th {\n",
       "        vertical-align: top;\n",
       "    }\n",
       "\n",
       "    .dataframe thead th {\n",
       "        text-align: right;\n",
       "    }\n",
       "</style>\n",
       "<table border=\"1\" class=\"dataframe\">\n",
       "  <thead>\n",
       "    <tr style=\"text-align: right;\">\n",
       "      <th></th>\n",
       "      <th>avgPrice_2019</th>\n",
       "    </tr>\n",
       "  </thead>\n",
       "  <tbody>\n",
       "    <tr>\n",
       "      <th>0</th>\n",
       "      <td>1021.428571</td>\n",
       "    </tr>\n",
       "    <tr>\n",
       "      <th>1</th>\n",
       "      <td>1147.142857</td>\n",
       "    </tr>\n",
       "    <tr>\n",
       "      <th>2</th>\n",
       "      <td>928.857143</td>\n",
       "    </tr>\n",
       "    <tr>\n",
       "      <th>3</th>\n",
       "      <td>1062.428571</td>\n",
       "    </tr>\n",
       "    <tr>\n",
       "      <th>4</th>\n",
       "      <td>943.714286</td>\n",
       "    </tr>\n",
       "  </tbody>\n",
       "</table>\n",
       "</div>"
      ],
      "text/plain": [
       "   avgPrice_2019\n",
       "0    1021.428571\n",
       "1    1147.142857\n",
       "2     928.857143\n",
       "3    1062.428571\n",
       "4     943.714286"
      ]
     },
     "execution_count": 183,
     "metadata": {},
     "output_type": "execute_result"
    }
   ],
   "source": [
    "col_2019 = [col for col in df_sf.columns if '2019' in col]\n",
    "mean_2019 = df_sf[col_2019].mean(axis=1).to_frame(name='avgPrice_2019')\n",
    "mean_2019.head()"
   ]
  },
  {
   "cell_type": "code",
   "execution_count": 184,
   "metadata": {},
   "outputs": [
    {
     "data": {
      "text/html": [
       "<div>\n",
       "<style scoped>\n",
       "    .dataframe tbody tr th:only-of-type {\n",
       "        vertical-align: middle;\n",
       "    }\n",
       "\n",
       "    .dataframe tbody tr th {\n",
       "        vertical-align: top;\n",
       "    }\n",
       "\n",
       "    .dataframe thead th {\n",
       "        text-align: right;\n",
       "    }\n",
       "</style>\n",
       "<table border=\"1\" class=\"dataframe\">\n",
       "  <thead>\n",
       "    <tr style=\"text-align: right;\">\n",
       "      <th></th>\n",
       "      <th>RegionID</th>\n",
       "      <th>RegionName</th>\n",
       "      <th>avgPrice_2019</th>\n",
       "    </tr>\n",
       "  </thead>\n",
       "  <tbody>\n",
       "    <tr>\n",
       "      <th>0</th>\n",
       "      <td>268384</td>\n",
       "      <td>Outer Sunset</td>\n",
       "      <td>1021.428571</td>\n",
       "    </tr>\n",
       "    <tr>\n",
       "      <th>1</th>\n",
       "      <td>274552</td>\n",
       "      <td>Mission</td>\n",
       "      <td>1147.142857</td>\n",
       "    </tr>\n",
       "    <tr>\n",
       "      <th>2</th>\n",
       "      <td>268383</td>\n",
       "      <td>Outer Richmond</td>\n",
       "      <td>928.857143</td>\n",
       "    </tr>\n",
       "    <tr>\n",
       "      <th>3</th>\n",
       "      <td>268219</td>\n",
       "      <td>Inner Richmond</td>\n",
       "      <td>1062.428571</td>\n",
       "    </tr>\n",
       "    <tr>\n",
       "      <th>4</th>\n",
       "      <td>268396</td>\n",
       "      <td>Parkside</td>\n",
       "      <td>943.714286</td>\n",
       "    </tr>\n",
       "  </tbody>\n",
       "</table>\n",
       "</div>"
      ],
      "text/plain": [
       "   RegionID      RegionName  avgPrice_2019\n",
       "0    268384    Outer Sunset    1021.428571\n",
       "1    274552         Mission    1147.142857\n",
       "2    268383  Outer Richmond     928.857143\n",
       "3    268219  Inner Richmond    1062.428571\n",
       "4    268396        Parkside     943.714286"
      ]
     },
     "execution_count": 184,
     "metadata": {},
     "output_type": "execute_result"
    }
   ],
   "source": [
    "df_sf.drop(df_sf.iloc[:,2:],1,inplace = True)\n",
    "df_sf['avgPrice_2019'] = mean_2019['avgPrice_2019']\n",
    "df_sf.head()"
   ]
  },
  {
   "cell_type": "code",
   "execution_count": 185,
   "metadata": {},
   "outputs": [],
   "source": [
    "def find_coordinates(address):\n",
    "    add = address + ', San Francisco, California'\n",
    "    geolocator = Nominatim(user_agent=\"ca_explorer\")\n",
    "    location = geolocator.geocode(add)\n",
    "    latitude = location.latitude\n",
    "    longitude = location.longitude\n",
    "#    print('The geograpical coordinate of {} are {}, {}.'.format(address, latitude, longitude))\n",
    "    return [latitude, longitude]\n"
   ]
  },
  {
   "cell_type": "code",
   "execution_count": 186,
   "metadata": {},
   "outputs": [
    {
     "name": "stdout",
     "output_type": "stream",
     "text": [
      "No coordinates found for Golden Gate Heights.\n",
      "No coordinates found for Ingleside Heights.\n",
      "No coordinates found for Upper Market.\n",
      "No coordinates found for Miraloma Park.\n",
      "No coordinates found for Diamond Heights.\n",
      "No coordinates found for Westwood Park.\n",
      "No coordinates found for Midtown Terrace.\n",
      "No coordinates found for Little Hollywood.\n",
      "No coordinates found for Mount Davidson Manor.\n",
      "No coordinates found for Westwood Highlands.\n"
     ]
    },
    {
     "data": {
      "text/html": [
       "<div>\n",
       "<style scoped>\n",
       "    .dataframe tbody tr th:only-of-type {\n",
       "        vertical-align: middle;\n",
       "    }\n",
       "\n",
       "    .dataframe tbody tr th {\n",
       "        vertical-align: top;\n",
       "    }\n",
       "\n",
       "    .dataframe thead th {\n",
       "        text-align: right;\n",
       "    }\n",
       "</style>\n",
       "<table border=\"1\" class=\"dataframe\">\n",
       "  <thead>\n",
       "    <tr style=\"text-align: right;\">\n",
       "      <th></th>\n",
       "      <th>RegionID</th>\n",
       "      <th>RegionName</th>\n",
       "      <th>avgPrice_2019</th>\n",
       "      <th>latitude</th>\n",
       "      <th>longitude</th>\n",
       "    </tr>\n",
       "  </thead>\n",
       "  <tbody>\n",
       "    <tr>\n",
       "      <th>0</th>\n",
       "      <td>268384</td>\n",
       "      <td>Outer Sunset</td>\n",
       "      <td>1021.428571</td>\n",
       "      <td>37.753303</td>\n",
       "      <td>-122.495159</td>\n",
       "    </tr>\n",
       "    <tr>\n",
       "      <th>1</th>\n",
       "      <td>274552</td>\n",
       "      <td>Mission</td>\n",
       "      <td>1147.142857</td>\n",
       "      <td>37.752498</td>\n",
       "      <td>-122.412826</td>\n",
       "    </tr>\n",
       "    <tr>\n",
       "      <th>2</th>\n",
       "      <td>268383</td>\n",
       "      <td>Outer Richmond</td>\n",
       "      <td>928.857143</td>\n",
       "      <td>37.780643</td>\n",
       "      <td>-122.472596</td>\n",
       "    </tr>\n",
       "    <tr>\n",
       "      <th>3</th>\n",
       "      <td>268219</td>\n",
       "      <td>Inner Richmond</td>\n",
       "      <td>1062.428571</td>\n",
       "      <td>37.769825</td>\n",
       "      <td>-122.466087</td>\n",
       "    </tr>\n",
       "    <tr>\n",
       "      <th>4</th>\n",
       "      <td>268396</td>\n",
       "      <td>Parkside</td>\n",
       "      <td>943.714286</td>\n",
       "      <td>37.738364</td>\n",
       "      <td>-122.483982</td>\n",
       "    </tr>\n",
       "  </tbody>\n",
       "</table>\n",
       "</div>"
      ],
      "text/plain": [
       "   RegionID      RegionName  avgPrice_2019   latitude   longitude\n",
       "0    268384    Outer Sunset    1021.428571  37.753303 -122.495159\n",
       "1    274552         Mission    1147.142857  37.752498 -122.412826\n",
       "2    268383  Outer Richmond     928.857143  37.780643 -122.472596\n",
       "3    268219  Inner Richmond    1062.428571  37.769825 -122.466087\n",
       "4    268396        Parkside     943.714286  37.738364 -122.483982"
      ]
     },
     "execution_count": 186,
     "metadata": {},
     "output_type": "execute_result"
    }
   ],
   "source": [
    "coordinates = []\n",
    "for item in df_sf['RegionName']:\n",
    "    try: \n",
    "        coordinates.append(find_coordinates(item))\n",
    "    except:\n",
    "        coordinates.append([np.nan, np.nan])\n",
    "        print('No coordinates found for {}.'.format(item))\n",
    "coor = pd.DataFrame(coordinates,columns = ['latitude' , 'longitude'])\n",
    "df_sf[['latitude' , 'longitude']] = coor[['latitude' , 'longitude']]\n",
    "df_sf.head()"
   ]
  },
  {
   "cell_type": "code",
   "execution_count": 187,
   "metadata": {},
   "outputs": [
    {
     "data": {
      "text/plain": [
       "(51, 5)"
      ]
     },
     "execution_count": 187,
     "metadata": {},
     "output_type": "execute_result"
    }
   ],
   "source": [
    "df_sf_cleaned = df_sf.dropna()\n",
    "df_sf_cleaned.shape"
   ]
  },
  {
   "cell_type": "code",
   "execution_count": 190,
   "metadata": {},
   "outputs": [
    {
     "data": {
      "text/html": [
       "<div style=\"width:100%;\"><div style=\"position:relative;width:100%;height:0;padding-bottom:60%;\"><iframe src=\"data:text/html;charset=utf-8;base64,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\" style=\"position:absolute;width:100%;height:100%;left:0;top:0;border:none !important;\" allowfullscreen webkitallowfullscreen mozallowfullscreen></iframe></div></div>"
      ],
      "text/plain": [
       "<folium.folium.Map at 0x18013801c18>"
      ]
     },
     "execution_count": 190,
     "metadata": {},
     "output_type": "execute_result"
    }
   ],
   "source": [
    "sf_coor = find_coordinates('San Francisco')\n",
    "# create map of Toronto using latitude and longitude values\n",
    "map_sf = folium.Map(location=sf_coor, zoom_start=12)\n",
    "\n",
    "# add markers to map\n",
    "for lat, lng, neighborhood, price in zip(df_sf_cleaned['latitude'], df_sf_cleaned['longitude'], df_sf_cleaned['RegionName'], df_sf_cleaned['avgPrice_2019']):\n",
    "    label = '{}, {}'.format(neighborhood, price)\n",
    "    label = folium.Popup(label, parse_html=True)\n",
    "    folium.CircleMarker(\n",
    "        [lat, lng],\n",
    "        radius=5,\n",
    "        popup=label,\n",
    "        color='blue',\n",
    "        fill=True,\n",
    "        fill_color='#3186cc',\n",
    "        fill_opacity=0.7,\n",
    "        parse_html=False).add_to(map_sf)  \n",
    "    \n",
    "map_sf"
   ]
  },
  {
   "cell_type": "markdown",
   "metadata": {},
   "source": [
    "## Methodology <a name=\"methodology\"></a>"
   ]
  },
  {
   "cell_type": "markdown",
   "metadata": {},
   "source": []
  },
  {
   "cell_type": "markdown",
   "metadata": {},
   "source": [
    "## Analysis <a name=\"analysis\"></a>"
   ]
  },
  {
   "cell_type": "markdown",
   "metadata": {},
   "source": []
  },
  {
   "cell_type": "markdown",
   "metadata": {},
   "source": [
    "## Results and Discussion <a name=\"results\"></a>"
   ]
  },
  {
   "cell_type": "markdown",
   "metadata": {},
   "source": []
  },
  {
   "cell_type": "markdown",
   "metadata": {},
   "source": [
    "## Conclusion <a name=\"conclusion\"></a>"
   ]
  }
 ],
 "metadata": {
  "kernelspec": {
   "display_name": "Python 3",
   "language": "python",
   "name": "python3"
  },
  "language_info": {
   "codemirror_mode": {
    "name": "ipython",
    "version": 3
   },
   "file_extension": ".py",
   "mimetype": "text/x-python",
   "name": "python",
   "nbconvert_exporter": "python",
   "pygments_lexer": "ipython3",
   "version": "3.6.5"
  }
 },
 "nbformat": 4,
 "nbformat_minor": 2
}
